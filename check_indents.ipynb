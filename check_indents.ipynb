{
 "cells": [
  {
   "cell_type": "code",
   "execution_count": 1,
   "metadata": {},
   "outputs": [],
   "source": [
    "from common import *\n",
    "\n",
    "indents = {\n",
    "    '1space': re.compile('^ \\S', re.MULTILINE),\n",
    "    '2space': re.compile('^ {2}\\S', re.MULTILINE),\n",
    "    '4space': re.compile('^ {4}\\S', re.MULTILINE),\n",
    "    '8space+': re.compile('^ {8}', re.MULTILINE),\n",
    "    'tab': re.compile('^\\t\\S', re.MULTILINE),\n",
    "}\n",
    "\n",
    "indent_types = tuple(indents.keys())\n",
    "indent_regexes = tuple(indents.values())\n",
    "\n",
    "def report_indents(filename: str):\n",
    "    with open(filename, 'r') as f:\n",
    "        data = f.read()\n",
    "    indent_counts = [sum(1 for _ in r.finditer(data)) for r in indent_regexes]\n",
    "    indent_counts.append(0)  # 0 = tab, 1 = 1space, 2 = 2space\n",
    "    if sum(indent_counts[:-1]) > indent_counts[-1]:\n",
    "        if indent_counts[0] > 0:\n",
    "            indent_counts[-1] = 1\n",
    "        elif indent_counts[1] > 0:\n",
    "            indent_counts[-1] = 2\n",
    "        elif indent_counts[2] > 0:\n",
    "            indent_counts[-1] = 4\n",
    "        elif indent_counts[3] > 0:\n",
    "            indent_counts[-1] = 8\n",
    "    return indent_counts"
   ]
  },
  {
   "cell_type": "code",
   "execution_count": 25,
   "metadata": {},
   "outputs": [
    {
     "name": "stdout",
     "output_type": "stream",
     "text": [
      "Files:\n",
      "{'tab': 430, '4space': 382, '8space+': 54, '1space': 32, '2space': 0}\n",
      "Line instances:\n",
      "[('1space', 74), ('2space', 0), ('4space', 5685), ('8space+', 9455), ('tab', 7551)]\n"
     ]
    }
   ],
   "source": [
    "path = os.path.join(GC_PATH, 'src/main/java/emu/grasscutter/')\n",
    "results = {}\n",
    "for root, dirs, files in os.walk(path):\n",
    "    for filename in [os.path.join(root, f) for f in files if f.endswith('.java')]:\n",
    "        key = filename[len(path):]\n",
    "        results[key] = report_indents(filename)\n",
    "\n",
    "indent_enum = {1:'1space', 2:'2space', 4:'4space', 8:'8space+', 0:'tab'}\n",
    "indent_counts = [0, 0, 0, 0, 0]\n",
    "indent_win_counts = {k: 0 for k in indent_enum.keys()}\n",
    "for result in results.values():\n",
    "    indent_win_counts[result[-1]] += 1\n",
    "    for i, v in enumerate(result[:-1]):\n",
    "        indent_counts[i] += v\n",
    "print('Files:')\n",
    "print({indent_enum[k]:v for k,v in sorted(indent_win_counts.items(), key=lambda x: x[1], reverse=True)})\n",
    "\n",
    "print('Line instances:')\n",
    "print(list(zip(indent_enum.values(), indent_counts)))"
   ]
  },
  {
   "cell_type": "code",
   "execution_count": 4,
   "metadata": {},
   "outputs": [
    {
     "name": "stdout",
     "output_type": "stream",
     "text": [
      "47 without newline at EOF, 903 with.\n"
     ]
    }
   ],
   "source": [
    "path = os.path.join(GC_PATH, 'src/main/java/emu/grasscutter/')\n",
    "ending_counts = [0, 0]\n",
    "for root, dirs, files in os.walk(path):\n",
    "    for filename in [os.path.join(root, f) for f in files if f.endswith('.java')]:\n",
    "        with open(filename, 'rb') as f:\n",
    "            last_char = f.read()[-1]\n",
    "            # print(last_char)\n",
    "            ending_counts[int(last_char == 10)] += 1\n",
    "\n",
    "print(f'{ending_counts[0]} without newline at EOF, {ending_counts[1]} with.')"
   ]
  }
 ],
 "metadata": {
  "kernelspec": {
   "display_name": "Python 3.10.4 64-bit",
   "language": "python",
   "name": "python3"
  },
  "language_info": {
   "codemirror_mode": {
    "name": "ipython",
    "version": 3
   },
   "file_extension": ".py",
   "mimetype": "text/x-python",
   "name": "python",
   "nbconvert_exporter": "python",
   "pygments_lexer": "ipython3",
   "version": "3.10.4"
  },
  "orig_nbformat": 4,
  "vscode": {
   "interpreter": {
    "hash": "767d51c1340bd893661ea55ea3124f6de3c7a262a8b4abca0554b478b1e2ff90"
   }
  }
 },
 "nbformat": 4,
 "nbformat_minor": 2
}
