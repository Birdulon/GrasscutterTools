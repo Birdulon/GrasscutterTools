{
 "cells": [
  {
   "cell_type": "code",
   "execution_count": 1,
   "metadata": {},
   "outputs": [],
   "source": [
    "from common import *\n",
    "\n",
    "path = GC_PATH + 'src/main/resources/defaults/data/'\n",
    "chest_reward = load_json(path + 'ChestReward.json', True)\n",
    "monster_drop = load_json(path + 'MonsterDrop.json', True)\n",
    "\n",
    "loot_tables = {}\n",
    "loot_tables['chest'] = load_json_folder(path + 'loot/chest/')\n",
    "loot_tables['monster'] = load_json_folder(path + 'loot/monster/')\n",
    "\n",
    "MAXLINE = 150\n",
    "with open_write('Drop_ChestReward.json', True) as f:\n",
    "    f.write(encode_json(chest_reward, maxline=MAXLINE))\n",
    "with open_write('Drop_MonsterDrop.json', True) as f:\n",
    "    f.write(encode_json(monster_drop, maxline=MAXLINE))\n",
    "with open_write('Drop_Tables.json', True) as f:\n",
    "    f.write(encode_json(loot_tables, maxline=MAXLINE))"
   ]
  }
 ],
 "metadata": {
  "kernelspec": {
   "display_name": "Python 3.10.4 64-bit",
   "language": "python",
   "name": "python3"
  },
  "language_info": {
   "codemirror_mode": {
    "name": "ipython",
    "version": 3
   },
   "file_extension": ".py",
   "mimetype": "text/x-python",
   "name": "python",
   "nbconvert_exporter": "python",
   "pygments_lexer": "ipython3",
   "version": "3.10.4"
  },
  "orig_nbformat": 4,
  "vscode": {
   "interpreter": {
    "hash": "767d51c1340bd893661ea55ea3124f6de3c7a262a8b4abca0554b478b1e2ff90"
   }
  }
 },
 "nbformat": 4,
 "nbformat_minor": 2
}
