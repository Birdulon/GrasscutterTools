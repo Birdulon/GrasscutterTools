{
 "cells": [
  {
   "cell_type": "code",
   "execution_count": null,
   "metadata": {},
   "outputs": [],
   "source": [
    "import os\n",
    "import common\n",
    "\n",
    "EXCELS_DIRECTORY = '../Grasscutter/resources/ExcelBinOutput'\n",
    "\n",
    "def is_falsey(value):\n",
    "    return value in ['0', '0.0', 'false', '[]', '{}']\n",
    "\n",
    "def strip_if_falsey(value):\n",
    "    return '' if is_falsey(value) else value\n",
    "\n",
    "def format(value):\n",
    "    if isinstance(value, float):\n",
    "        return f'{value:G}'\n",
    "    return str(value)\n",
    "\n",
    "def save_tsv(data, filename, delimiter='\\t'):\n",
    "    # Determine all fields in the data set\n",
    "    fields = {}\n",
    "    for entry in data:\n",
    "        for key, value in entry.items():\n",
    "            # if not is_falsey(value):\n",
    "                fields[key] = fields.get(key, 0) + 1\n",
    "    sortedFields = sorted(fields.items(), key=lambda x: -x[1])  # Stable sort by occurences\n",
    "    # print(filename)\n",
    "    # print(sortedFields)\n",
    "\n",
    "    with open(filename, 'w', newline='\\n') as file:\n",
    "        file.write(delimiter.join(k for (k,count) in sortedFields)+'\\n')  # Header\n",
    "        # Entries in order\n",
    "        for entry in data:\n",
    "            # file.write(delimiter.join(strip_if_falsey(str(entry.get(k, ''))) for (k,count) in sortedFields).rstrip()+'\\n')\n",
    "            file.write(delimiter.join(format(entry.get(k, '')) for (k,count) in sortedFields).rstrip()+'\\n')\n",
    "\n",
    "def convert_json(filename):\n",
    "    data = common.load_json(filename, True)\n",
    "    data_flat = common.flatten_json(data, stripped_values=[''])\n",
    "    save_tsv(data, filename.replace('.json', '.tsj'))\n",
    "    save_tsv(data_flat, filename.replace('.json', '.tsv'))\n",
    "\n",
    "\n",
    "# convert_json('../Grasscutter/src/main/resources/defaults/data/GadgetSpawns.json')\n",
    "# convert_json('../Grasscutter/src/main/resources/defaults/data/Spawns.json')\n",
    "filenames = [f for f in os.listdir(EXCELS_DIRECTORY) if f.endswith('.json')]\n",
    "for filename in filenames:\n",
    "    convert_json(os.path.join(EXCELS_DIRECTORY, filename))"
   ]
  }
 ],
 "metadata": {
  "kernelspec": {
   "display_name": "Python 3.10.6 64-bit",
   "language": "python",
   "name": "python3"
  },
  "language_info": {
   "codemirror_mode": {
    "name": "ipython",
    "version": 3
   },
   "file_extension": ".py",
   "mimetype": "text/x-python",
   "name": "python",
   "nbconvert_exporter": "python",
   "pygments_lexer": "ipython3",
   "version": "3.10.6"
  },
  "orig_nbformat": 4,
  "vscode": {
   "interpreter": {
    "hash": "767d51c1340bd893661ea55ea3124f6de3c7a262a8b4abca0554b478b1e2ff90"
   }
  }
 },
 "nbformat": 4,
 "nbformat_minor": 2
}
