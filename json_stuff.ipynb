{
 "cells": [
  {
   "cell_type": "code",
   "execution_count": 1,
   "metadata": {},
   "outputs": [],
   "source": [
    "from common import *\n",
    "data = load_json('3.json', True)\n",
    "\n",
    "def hack_fightprops(l: list):\n",
    "    output = {}\n",
    "    for prop in l:\n",
    "        if 'propType' in prop and 'propValue' in prop:\n",
    "            output[str(prop['propType'])] = prop['propValue']\n",
    "    return 'fightProps', output\n",
    "\n",
    "data_flat = sorted([flatten_json(\n",
    "    d, flatten_keys=['gadget', 'motionInfo', 'gatherGadget'], stripped_keys=['entityId'], flatten_xyz=True, flatten_lists=False, key_hacks={'fightPropList':hack_fightprops}) for d in data],\n",
    "    key=lambda x: (len(x), x.get('gadgetId', 0)))\n",
    "df = pd.DataFrame(data_flat)\n",
    "#df1 = df.loc[:,df.nunique(dropna=False)!=1].sort_values(['itemId', 'groupId', 'configId', 'gadgetId'])\n",
    "df1 = df.loc[:,df.nunique(dropna=False)!=1].sort_values(['pos', 'configId', 'groupId'])"
   ]
  },
  {
   "cell_type": "code",
   "execution_count": null,
   "metadata": {},
   "outputs": [],
   "source": [
    "def make_gatherable_templates(df: pd.DataFrame) -> list:\n",
    "    def make_template(df, name=''):\n",
    "        common_values = df.loc[:, df.nunique(dropna=False) == 1]\n",
    "        varying_values = df.loc[:, df.nunique(dropna=False) > 1]\n",
    "        output = {'TemplateName': name} if name else {}\n",
    "        for k,v in common_values.iloc[0].iteritems():\n",
    "            output[k] = v\n",
    "        # TODO: something more stringent\n",
    "        if name:\n",
    "            # print(f'Recursing for name {name}')\n",
    "            vv = varying_values.copy()\n",
    "            vv_gid = vv.get('groupId', None)\n",
    "            if vv_gid is not None:\n",
    "                group_counts = vv_gid.value_counts()\n",
    "                one_ofs = group_counts[group_counts == 1].index\n",
    "                multiple_ofs = group_counts[group_counts > 1].index\n",
    "                output['zChildren'] = []\n",
    "                for group_id in multiple_ofs:\n",
    "                    output['zChildren'].append(make_template(vv[vv_gid == group_id]))\n",
    "                if len(one_ofs) > 0:\n",
    "                    output['zChildren'] += vv[vv_gid.isin(one_ofs)].to_dict('records')\n",
    "            else:\n",
    "                output['zChildren'] = varying_values.to_dict('records')    \n",
    "        else:\n",
    "            output['zChildren'] = varying_values.to_dict('records')\n",
    "        return output\n",
    "\n",
    "    gatherable_counts = df['itemId'].value_counts()\n",
    "    one_ofs = gatherable_counts[gatherable_counts == 1].index\n",
    "    multiple_ofs = gatherable_counts[gatherable_counts > 1].index\n",
    "    outputs = []\n",
    "    for gatherable_id in multiple_ofs:\n",
    "        name = handbook_items.get(int(gatherable_id), gatherable_id)\n",
    "        outputs.append(make_template(df[df['itemId'] == gatherable_id], name))\n",
    "    outputs.append(make_template(df[df['itemId'].isin(one_ofs)], 'one_ofs'))\n",
    "    outputs.append(make_template(df[df['itemId'].isnull()], 'NaNs'))\n",
    "    return outputs\n",
    "\n",
    "t = make_gatherable_templates(df1)"
   ]
  },
  {
   "cell_type": "code",
   "execution_count": null,
   "metadata": {},
   "outputs": [],
   "source": [
    "ts = encode_json(t, -2)\n",
    "with open_write('3.pandas.json', True) as f:\n",
    "    f.write(ts)"
   ]
  },
  {
   "cell_type": "code",
   "execution_count": null,
   "metadata": {},
   "outputs": [],
   "source": [
    "compact_keys = {'gadgetId': 0, 'configId': 0, 'groupId': 0, 'itemId': 0, 'pos': (0,0,0), 'rot': (0,0,0), 'isEnableInteract': 0, 'authorityPeerId': 0}\n",
    "def compact_record(d: dict):\n",
    "    output = {}\n",
    "    output['_'] = tuple(d.get(k, v) for k,v in compact_keys.items())\n",
    "    for k, v in d.items():\n",
    "        if k not in compact_keys:\n",
    "            output[k] = v\n",
    "    return output\n",
    "df1d = df1.to_dict(orient='records')\n",
    "df1dc = [compact_record(d) for d in df1d]\n",
    "sorted_3json = encode_json(df1dc, -2, maxline=90000, nan_to_null=True)\n",
    "with open_write('3.records.json', True) as f:\n",
    "    f.write(sorted_3json)"
   ]
  },
  {
   "cell_type": "code",
   "execution_count": null,
   "metadata": {},
   "outputs": [],
   "source": [
    "def load_group(filename):\n",
    "    with open(filename, 'r') as file:\n",
    "        data = file.read()\n",
    "        # _, _, data = data.partition('\\n')\n",
    "    try:\n",
    "        lua = lupa.LuaRuntime(unpack_returned_tuples=True)\n",
    "        lua.execute(data)\n",
    "        g = lua.globals()\n",
    "        d = dict(g)\n",
    "        gadgets = g['gadgets']\n",
    "        return table_to_dict(gadgets)\n",
    "    except lupa.LuaError as e:\n",
    "        print(filename, e)\n",
    "path = '/home/luke/code/GenshinImpact/Grasscutter/resources/Scripts/Scene/3/'  # scene3_group133102124.lua\n",
    "filenames = [s for s in os.listdir(path) if s.endswith('.lua')]"
   ]
  },
  {
   "cell_type": "code",
   "execution_count": null,
   "metadata": {},
   "outputs": [],
   "source": [
    "group_filenames = [s for s in filenames if s.startswith('scene3_group')]\n",
    "groups = {s[12:-4]:load_group(path+s) for s in group_filenames}\n",
    "with open('3.groups.lua.json', 'w', encoding='utf-8', newline='\\n') as file:\n",
    "    file.write(encode_json(groups))"
   ]
  },
  {
   "cell_type": "code",
   "execution_count": null,
   "metadata": {},
   "outputs": [],
   "source": [
    "block_filenames = [s for s in filenames if s.startswith('scene3_block')]\n",
    "blocks = {s[12:-4]:load_group(path+s) for s in block_filenames}\n",
    "with open('3.blocks.lua.json', 'w', encoding='utf-8', newline='\\n') as file:\n",
    "    file.write(encode_json(blocks))"
   ]
  },
  {
   "cell_type": "code",
   "execution_count": 2,
   "metadata": {},
   "outputs": [
    {
     "ename": "NameError",
     "evalue": "name 'load_group' is not defined",
     "output_type": "error",
     "traceback": [
      "\u001b[0;31m---------------------------------------------------------------------------\u001b[0m",
      "\u001b[0;31mNameError\u001b[0m                                 Traceback (most recent call last)",
      "\u001b[1;32m/home/luke/code/GenshinImpact/GrasscutterTools/json_stuff.ipynb Cell 8'\u001b[0m in \u001b[0;36m<cell line: 4>\u001b[0;34m()\u001b[0m\n\u001b[1;32m      <a href='vscode-notebook-cell://ssh-remote%2Blhw-topcez/home/luke/code/GenshinImpact/GrasscutterTools/json_stuff.ipynb#ch0000015vscode-remote?line=5'>6</a>\u001b[0m \u001b[39mif\u001b[39;00m file\u001b[39m.\u001b[39mendswith(\u001b[39m'\u001b[39m\u001b[39m.lua\u001b[39m\u001b[39m'\u001b[39m):\n\u001b[1;32m      <a href='vscode-notebook-cell://ssh-remote%2Blhw-topcez/home/luke/code/GenshinImpact/GrasscutterTools/json_stuff.ipynb#ch0000015vscode-remote?line=6'>7</a>\u001b[0m     full \u001b[39m=\u001b[39m os\u001b[39m.\u001b[39mpath\u001b[39m.\u001b[39mjoin(root, file)\n\u001b[0;32m----> <a href='vscode-notebook-cell://ssh-remote%2Blhw-topcez/home/luke/code/GenshinImpact/GrasscutterTools/json_stuff.ipynb#ch0000015vscode-remote?line=7'>8</a>\u001b[0m     gadgets \u001b[39m=\u001b[39m load_group(full)\n\u001b[1;32m      <a href='vscode-notebook-cell://ssh-remote%2Blhw-topcez/home/luke/code/GenshinImpact/GrasscutterTools/json_stuff.ipynb#ch0000015vscode-remote?line=8'>9</a>\u001b[0m     key \u001b[39m=\u001b[39m full[\u001b[39mlen\u001b[39m(path):]\n\u001b[1;32m     <a href='vscode-notebook-cell://ssh-remote%2Blhw-topcez/home/luke/code/GenshinImpact/GrasscutterTools/json_stuff.ipynb#ch0000015vscode-remote?line=9'>10</a>\u001b[0m     \u001b[39mif\u001b[39;00m gadgets \u001b[39mis\u001b[39;00m \u001b[39mnot\u001b[39;00m \u001b[39mNone\u001b[39;00m:\n",
      "\u001b[0;31mNameError\u001b[0m: name 'load_group' is not defined"
     ]
    }
   ],
   "source": [
    "lua_gadgets = {}\n",
    "errors = []\n",
    "path = '/home/luke/code/GenshinImpact/Grasscutter/resources/Scripts/Scene/'\n",
    "for root, dirs, files in os.walk(path):\n",
    "    for file in files:\n",
    "        if file.endswith('.lua'):\n",
    "            full = os.path.join(root, file)\n",
    "            gadgets = load_group(full)\n",
    "            key = full[len(path):]\n",
    "            if gadgets is not None:\n",
    "                lua_gadgets[key] = gadgets\n",
    "            else:\n",
    "                errors.append(key)\n",
    "lua_gadgets['errors'] = errors\n",
    "with open('gadgets.flat.lua.json', 'w', encoding='utf-8', newline='\\n') as file:\n",
    "    file.write(encode_json(lua_gadgets))"
   ]
  },
  {
   "cell_type": "code",
   "execution_count": 4,
   "metadata": {},
   "outputs": [],
   "source": [
    "lua_gadgets_decoded = load_json('gadgets.lua.json', True)\n",
    "lua_gadgets_flat = {}\n",
    "for key, gadgets in lua_gadgets_decoded.items():\n",
    "    if isinstance(gadgets, list):\n",
    "        lua_gadgets_flat[key] = [flatten_json(g, flatten_xyz=True, flatten_lists=False) for g in gadgets]\n",
    "    elif isinstance(gadgets, dict):\n",
    "        lua_gadgets_flat[key] = flatten_json(gadgets, flatten_xyz=True, flatten_lists=False)\n",
    "    else:\n",
    "        lua_gadgets_flat[key] = gadgets\n",
    "with open('gadgets.flat.lua.json', 'w', encoding='utf-8', newline='\\n') as file:\n",
    "    file.write(encode_json(lua_gadgets_flat))"
   ]
  },
  {
   "cell_type": "code",
   "execution_count": null,
   "metadata": {},
   "outputs": [],
   "source": [
    "textmaps = load_textmaps()\n",
    "OptionExcelConfigData = pd.read_json(GC_PATH + 'resources/ExcelBinOutput/OptionExcelConfigData.json')\n",
    "OptionExcelConfigData['contentTextMapHash'] = OptionExcelConfigData['contentTextMapHash'].map(lambda x: textmaps['EN'].get(str(x)))\n",
    "OptionExcelConfigData.to_excel('OptionExcelConfigDataNames.xlsx', index=False)"
   ]
  },
  {
   "cell_type": "code",
   "execution_count": null,
   "metadata": {},
   "outputs": [],
   "source": [
    "GatherExcelConfigData = pd.read_json('resources/ExcelBinOutput/GatherExcelConfigData.json')\n",
    "GatherExcelConfigData['itemId'] = GatherExcelConfigData['itemId'].map(handbook_items.get)"
   ]
  },
  {
   "cell_type": "code",
   "execution_count": null,
   "metadata": {},
   "outputs": [],
   "source": [
    "keys = textmaps['EN'].keys()\n",
    "reverse_mappings = {}\n",
    "for key in keys:\n",
    "    st = tuple(textmaps[l].get(key, '') for l in ('EN', 'JP', 'CHS', 'CHT', 'RU'))\n",
    "    reverse_mappings[st] = reverse_mappings.get(st, []) + [key]\n",
    "\n",
    "reverse_mappings_sorted = sorted(reverse_mappings.items(), key=lambda x: len(x[1]), reverse=True)\n",
    "for st, hashes in reverse_mappings_sorted[:2500]:\n",
    "    # print(f'{st}: {len(hashes)} copies: {\", \".join(hashes)}')\n",
    "    print(f'{len(hashes)} copies of \\t{st}')"
   ]
  },
  {
   "cell_type": "code",
   "execution_count": null,
   "metadata": {},
   "outputs": [],
   "source": [
    "item_ids = set(df.loc[:,'itemId'])\n",
    "gadget_ids = set(df.loc[:,'gadgetId'])\n",
    "def item_name(id: int) -> str:\n",
    "    return handbook_items.get(id, str(id))\n",
    "i2g = {item_name(id): sorted(set(df[df['itemId']==id]['gadgetId'])) for id in item_ids}\n",
    "g2i = {id: sorted({item_name(i) for i in set(df[df['gadgetId']==id]['itemId'])}) for id in gadget_ids}\n",
    "\n",
    "print('itemId : gadgetIds')\n",
    "print('\\n'.join(f'{k}: {v}' for k,v in sorted(i2g.items(), key=lambda x: (-len(x[1]), x[0]))))\n",
    "print('gadgetId : itemIds')\n",
    "print('\\n'.join(f'{k}: {v}' for k,v in sorted(g2i.items(), key=lambda x: (-len(x[1]), x[1][0]))))"
   ]
  },
  {
   "cell_type": "code",
   "execution_count": null,
   "metadata": {},
   "outputs": [],
   "source": [
    "mint_ids = [70520009, 70520024]\n",
    "positions = [df1[df1['gadgetId']==id].loc[:,'pos'] for id in mint_ids]\n",
    "import matplotlib.pyplot as plt\n",
    "plt.rcParams['figure.figsize'] = [10, 10]\n",
    "plt.axes().set_aspect('equal')\n",
    "for pos in positions:\n",
    "    plt.scatter([-p[2] for p in pos], [p[0] for p in pos], alpha=0.5)\n",
    "plt.show()"
   ]
  },
  {
   "cell_type": "code",
   "execution_count": null,
   "metadata": {},
   "outputs": [],
   "source": [
    "spawns = load_json('src/main/resources/defaults/data/GadgetSpawns.json')\n",
    "spawns3 = [spawn for spawn in spawns if spawn['sceneId']==3]\n",
    "def pos2xy(pos: dict) -> list:  # Rotate to our screenspace\n",
    "    return [-pos.get(\"z\", 0), pos.get(\"x\", 0)]\n",
    "def spawns2array(spawns: list) -> np.ndarray:\n",
    "    # return np.array([pos2xy(s['pos']) for s in spawns if 'pos' in s])\n",
    "    return [pos2xy(s['pos']) for s in spawns if 'pos' in s]\n",
    "# centroids = {s['groupId']:pos2xy(s['pos']) for s in spawns3 if 'groupId' in s}\n",
    "# spawn_points = {s['groupId']:spawns2array(s['spawns']) for s in spawns3 if 'groupId' in s}\n",
    "# gid_to_centroid_and_points = {s['groupId']:(pos2xy(s['pos']), spawns2array(s['spawns'])) for s in spawns3 if 'groupId' in s}\n",
    "data = []\n",
    "gids = []\n",
    "for s in spawns3:\n",
    "    if 'groupId' not in s:\n",
    "        continue\n",
    "    gid = s['groupId']\n",
    "    centroid = pos2xy(s['pos'])\n",
    "    for p in spawns2array(s['spawns']):\n",
    "        data.append([p, centroid])\n",
    "        gids.append(gid)\n",
    "spawn_points = np.array(data)\n",
    "colors = ['#1f77b4', '#ff7f0e', '#2ca02c', '#d62728', '#9467bd', '#8c564b', '#e377c2', '#7f7f7f', '#bcbd22', '#17becf']\n",
    "cs = [colors[i%len(colors)] for i in gids]\n",
    "\n",
    "\n",
    "import matplotlib.pyplot as plt\n",
    "import matplotlib.collections as mc\n",
    "from matplotlib.ticker import (AutoMinorLocator, MultipleLocator)\n",
    "%matplotlib widget\n",
    "# %matplotlib inline\n",
    "plt.rcParams['figure.figsize'] = [20, 20]\n",
    "# plt.rcParams['figure.dpi'] = 300\n",
    "fig = plt.figure()\n",
    "ax = fig.add_axes([0,0,1,1])\n",
    "lc = mc.LineCollection(spawn_points, linewidths=2, alpha=0.05, colors=cs)\n",
    "ax.set_aspect('equal')\n",
    "ax.add_collection(lc, autolim=False)\n",
    "ax.scatter(spawn_points[:,0,0], spawn_points[:,0,1], c=cs, alpha=0.5)\n",
    "\n",
    "# Change major ticks to show every 20.\n",
    "ax.xaxis.set_major_locator(MultipleLocator(128))\n",
    "ax.yaxis.set_major_locator(MultipleLocator(128))\n",
    "\n",
    "# Change minor ticks to show every 5. (20/4 = 5)\n",
    "ax.xaxis.set_minor_locator(AutoMinorLocator(4))\n",
    "ax.yaxis.set_minor_locator(AutoMinorLocator(4))\n",
    "ax.grid()\n",
    "# plt.plot()"
   ]
  }
 ],
 "metadata": {
  "kernelspec": {
   "display_name": "Python 2.7.16 64-bit",
   "language": "python",
   "name": "python3"
  },
  "language_info": {
   "codemirror_mode": {
    "name": "ipython",
    "version": 3
   },
   "file_extension": ".py",
   "mimetype": "text/x-python",
   "name": "python",
   "nbconvert_exporter": "python",
   "pygments_lexer": "ipython3",
   "version": "3.10.4"
  },
  "orig_nbformat": 4,
  "vscode": {
   "interpreter": {
    "hash": "767d51c1340bd893661ea55ea3124f6de3c7a262a8b4abca0554b478b1e2ff90"
   }
  }
 },
 "nbformat": 4,
 "nbformat_minor": 2
}
