{
 "cells": [
  {
   "cell_type": "code",
   "execution_count": 1,
   "metadata": {},
   "outputs": [],
   "source": [
    "from common import *\n",
    "textmaps = load_textmaps()"
   ]
  },
  {
   "cell_type": "code",
   "execution_count": null,
   "metadata": {},
   "outputs": [],
   "source": [
    "def translate(query, textmaps, num_results=5):\n",
    "    hits = {}\n",
    "    for textmap in textmaps.values():\n",
    "        for k,v in textmap.items():\n",
    "            if query in v:\n",
    "                hits[k] = v\n",
    "    hits_sorted = sorted(hits.items(), key=lambda x: len(x[1]))\n",
    "    print(f'Searched \"{query}\"')\n",
    "    for i,(k,v) in enumerate(hits_sorted[:num_results], 1):\n",
    "        print(f'Result #{i}: {k} (from \"{v}\")')\n",
    "        s_to_lang = {}\n",
    "        for lang, textmap in textmaps.items():\n",
    "            s = textmap[k]\n",
    "            s_to_lang[s] = s_to_lang.get(s, []) + [lang]\n",
    "        results = [f'{\"=\".join(langs)}: \"{s}\"' for s, langs in s_to_lang.items()]\n",
    "        print('\\t' + ', '.join(results))\n"
   ]
  },
  {
   "cell_type": "code",
   "execution_count": null,
   "metadata": {},
   "outputs": [],
   "source": [
    "dedup_en = {}\n",
    "dedup_en_values = set()\n",
    "for k,v in textmaps['EN'].items():\n",
    "    if v not in dedup_en_values:\n",
    "        dedup_en_values.add(v)\n",
    "        dedup_en[k] = v\n",
    "\n",
    "def save_json4(data: dict, filename: str, **kwargs) -> None:\n",
    "    with open(filename, 'w', encoding='utf-8', newline='\\n') as file:\n",
    "        json.dump(data, file, ensure_ascii=False, indent=4, **kwargs)\n",
    "save_json4(dedup_en, 'TextMapEN.dedup.json')"
   ]
  }
 ],
 "metadata": {
  "kernelspec": {
   "display_name": "Python 3.10.4 64-bit",
   "language": "python",
   "name": "python3"
  },
  "language_info": {
   "codemirror_mode": {
    "name": "ipython",
    "version": 3
   },
   "file_extension": ".py",
   "mimetype": "text/x-python",
   "name": "python",
   "nbconvert_exporter": "python",
   "pygments_lexer": "ipython3",
   "version": "3.10.4"
  },
  "orig_nbformat": 4,
  "vscode": {
   "interpreter": {
    "hash": "767d51c1340bd893661ea55ea3124f6de3c7a262a8b4abca0554b478b1e2ff90"
   }
  }
 },
 "nbformat": 4,
 "nbformat_minor": 2
}
