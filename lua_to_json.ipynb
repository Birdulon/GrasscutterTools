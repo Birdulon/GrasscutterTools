{
 "cells": [
  {
   "cell_type": "code",
   "execution_count": null,
   "metadata": {},
   "outputs": [],
   "source": [
    "from common import *\n",
    "\n",
    "with open_read('missing_luas.txt', True) as f:\n",
    "    missing_modules = f.read().split('\\n')\n",
    "fake_missing_modules = '\\n'.join([f'package.loaded[\"{module}\"] = true' for module in missing_modules])\n",
    "# print(fake_missing_modules)\n",
    "module_not_found = re.compile(r\"module '(.*?)' not found\")\n",
    "\n",
    "required_lua = []\n",
    "config_path = 'resources/Scripts/Config/'\n",
    "for cfg in ['Excel/CommonScriptConfig.lua', 'Json/ConfigEntity.lua']:\n",
    "    with open_read(config_path + cfg) as f:\n",
    "        required_lua.append(f.read())\n",
    "\n",
    "def load_group(filename):\n",
    "    with open(filename, 'r') as file:\n",
    "        data = file.read()\n",
    "    try:\n",
    "        lua = lupa.LuaRuntime(unpack_returned_tuples=True)\n",
    "        lua.execute(fake_missing_modules)\n",
    "        for v in required_lua:\n",
    "            lua.execute(v)\n",
    "        # lua.execute(data.replace('require', 'print'))\n",
    "        lua.execute(data)\n",
    "        return lua.globals()\n",
    "    except lupa.LuaError as e:\n",
    "        s = str(e)\n",
    "        for module in module_not_found.findall(s):\n",
    "            return module\n",
    "        return s.replace('\"',\"'\")"
   ]
  },
  {
   "cell_type": "code",
   "execution_count": null,
   "metadata": {},
   "outputs": [],
   "source": [
    "lua_gadgets = {}\n",
    "lua_groups = {}\n",
    "errors = {}\n",
    "path = os.path.join(GC_PATH, 'resources/Scripts/Scene/')\n",
    "for root, dirs, files in os.walk(path):\n",
    "    for file in files:\n",
    "        if file.endswith('.lua'):\n",
    "            full = os.path.join(root, file)\n",
    "            key = full[len(path):]\n",
    "            results = load_group(full)\n",
    "            if isinstance(results, str):\n",
    "                errors[key] = results\n",
    "            else:\n",
    "                gadgets = results.gadgets\n",
    "                if gadgets is not None:\n",
    "                    lua_gadgets[key] = table_to_dict(gadgets)\n",
    "                groups = results.groups\n",
    "                if groups is not None:\n",
    "                    lua_groups[key] = table_to_dict(groups)\n",
    "lua_gadgets['errors'] = errors\n",
    "with open_write('gadgets.lua.json', True) as file:\n",
    "    file.write(encode_json(lua_gadgets))\n",
    "with open_write('groups.lua.json', True) as file:\n",
    "    file.write(encode_json(lua_groups))\n",
    "print(f'Total errors: {len(errors)}')"
   ]
  },
  {
   "cell_type": "code",
   "execution_count": null,
   "metadata": {},
   "outputs": [],
   "source": [
    "for thing in ['gadgets', 'groups']:\n",
    "    lua_gadgets_decoded = load_json(f'{thing}.lua.json', True)\n",
    "    lua_gadgets_flat = {}\n",
    "    for key, gadgets in lua_gadgets_decoded.items():\n",
    "        if isinstance(gadgets, list):\n",
    "            lua_gadgets_flat[key] = [flatten_json(g, flatten_xyz=True, flatten_lists=False) for g in gadgets]\n",
    "        elif isinstance(gadgets, dict):\n",
    "            lua_gadgets_flat[key] = flatten_json(gadgets, flatten_xyz=True, flatten_lists=False)\n",
    "        else:\n",
    "            lua_gadgets_flat[key] = gadgets\n",
    "    with open_write(f'{thing}.flat.lua.json', True) as file:\n",
    "        file.write(encode_json(lua_gadgets_flat, maxline=250, sort_overrides={'id': 'AAAid', 'pos': 'AApos'}))"
   ]
  }
 ],
 "metadata": {
  "kernelspec": {
   "display_name": "Python 3.10.4 64-bit",
   "language": "python",
   "name": "python3"
  },
  "language_info": {
   "codemirror_mode": {
    "name": "ipython",
    "version": 3
   },
   "file_extension": ".py",
   "mimetype": "text/x-python",
   "name": "python",
   "nbconvert_exporter": "python",
   "pygments_lexer": "ipython3",
   "version": "3.10.4"
  },
  "orig_nbformat": 4,
  "vscode": {
   "interpreter": {
    "hash": "767d51c1340bd893661ea55ea3124f6de3c7a262a8b4abca0554b478b1e2ff90"
   }
  }
 },
 "nbformat": 4,
 "nbformat_minor": 2
}
