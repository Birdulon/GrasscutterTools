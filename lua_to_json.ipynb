{
 "cells": [
  {
   "cell_type": "code",
   "execution_count": null,
   "metadata": {},
   "outputs": [],
   "source": [
    "from common import *\n",
    "\n",
    "def load_group(filename):\n",
    "    with open(filename, 'r') as file:\n",
    "        data = file.read()\n",
    "        # _, _, data = data.partition('\\n')\n",
    "    try:\n",
    "        lua = lupa.LuaRuntime(unpack_returned_tuples=True)\n",
    "        lua.execute(data)\n",
    "        g = lua.globals()\n",
    "        d = dict(g)\n",
    "        gadgets = g['gadgets']\n",
    "        return table_to_dict(gadgets)\n",
    "    except lupa.LuaError as e:\n",
    "        print(filename, e)\n",
    "path = '/home/luke/code/GenshinImpact/Grasscutter/resources/Scripts/Scene/'\n",
    "# filenames = [s for s in os.listdir(path) if s.endswith('.lua')]"
   ]
  },
  {
   "cell_type": "code",
   "execution_count": null,
   "metadata": {},
   "outputs": [],
   "source": [
    "lua_gadgets = {}\n",
    "errors = []\n",
    "path = '/home/luke/code/GenshinImpact/Grasscutter/resources/Scripts/Scene/'\n",
    "for root, dirs, files in os.walk(path):\n",
    "    for file in files:\n",
    "        if file.endswith('.lua'):\n",
    "            full = os.path.join(root, file)\n",
    "            gadgets = load_group(full)\n",
    "            key = full[len(path):]\n",
    "            if gadgets is not None:\n",
    "                lua_gadgets[key] = gadgets\n",
    "            else:\n",
    "                errors.append(key)\n",
    "lua_gadgets['errors'] = errors\n",
    "with open('gadgets.lua.json', 'w', encoding='utf-8', newline='\\n') as file:\n",
    "    file.write(encode_json(lua_gadgets))"
   ]
  },
  {
   "cell_type": "code",
   "execution_count": null,
   "metadata": {},
   "outputs": [],
   "source": [
    "lua_gadgets_decoded = load_json('gadgets.lua.json', True)\n",
    "lua_gadgets_flat = {}\n",
    "for key, gadgets in lua_gadgets_decoded.items():\n",
    "    if isinstance(gadgets, list):\n",
    "        lua_gadgets_flat[key] = [flatten_json(g, flatten_xyz=True, flatten_lists=False) for g in gadgets]\n",
    "    elif isinstance(gadgets, dict):\n",
    "        lua_gadgets_flat[key] = flatten_json(gadgets, flatten_xyz=True, flatten_lists=False)\n",
    "    else:\n",
    "        lua_gadgets_flat[key] = gadgets\n",
    "with open('gadgets.flat.lua.json', 'w', encoding='utf-8', newline='\\n') as file:\n",
    "    file.write(encode_json(lua_gadgets_flat))"
   ]
  }
 ],
 "metadata": {
  "kernelspec": {
   "display_name": "Python 3.10.4 64-bit",
   "language": "python",
   "name": "python3"
  },
  "language_info": {
   "codemirror_mode": {
    "name": "ipython",
    "version": 3
   },
   "file_extension": ".py",
   "mimetype": "text/x-python",
   "name": "python",
   "nbconvert_exporter": "python",
   "pygments_lexer": "ipython3",
   "version": "3.10.4"
  },
  "orig_nbformat": 4,
  "vscode": {
   "interpreter": {
    "hash": "767d51c1340bd893661ea55ea3124f6de3c7a262a8b4abca0554b478b1e2ff90"
   }
  }
 },
 "nbformat": 4,
 "nbformat_minor": 2
}
