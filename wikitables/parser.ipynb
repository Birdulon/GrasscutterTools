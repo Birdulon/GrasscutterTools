{
 "cells": [
  {
   "cell_type": "code",
   "execution_count": 36,
   "metadata": {},
   "outputs": [],
   "source": [
    "import re\n",
    "import dateutil\n",
    "\n",
    "with open('character.txt', 'r') as file:\n",
    "    character_lines = file.read().split('\\n')\n",
    "with open('weapon.txt', 'r') as file:\n",
    "    weapon_lines = file.read().split('\\n')\n",
    "with open('handbook_excerpt.txt', 'r') as file:\n",
    "    handbook_lines = file.read().split('\\n')\n",
    "\n",
    "handbook_regex = re.compile(r'^\\s*(\\d+) : (.+)$')\n",
    "ids = {name:id for line in handbook_lines for (id,name) in handbook_regex.findall(line)}\n",
    "\n",
    "elements = {'Anemo', 'Cryo', 'Dendro', 'Electro', 'Geo', 'Hydro', 'Pyro'}\n",
    "character_banners = [{}]\n",
    "\n",
    "def parse_date(line):\n",
    "    start_date = line.partition('–')[0].strip()\n",
    "    return dateutil.parser.parse(start_date, fuzzy=True)\n",
    "\n",
    "for line in character_lines:\n",
    "    c = character_banners[-1]\n",
    "    if line.startswith('\\t'):\n",
    "        c['date'] = parse_date(line)\n",
    "        character_banners.append({})\n",
    "        continue\n",
    "    if line.endswith('.png'):\n",
    "        continue\n",
    "    if 'title' not in c:\n",
    "        c['title'] = line.strip()\n",
    "        continue\n",
    "    if line not in elements:\n",
    "        c['entries'] = c.get('entries', []) + [line]\n",
    "character_banners.pop()  # One extra at the end\n",
    "\n",
    "weapon_banners = [{}]\n",
    "weapon_regex = re.compile(r'Weapon (.+)\\.png')\n",
    "\n",
    "for line in weapon_lines:\n",
    "    w = weapon_banners[-1]\n",
    "    if line.startswith('\\t'):\n",
    "        w['date'] = parse_date(line)\n",
    "        weapon_banners.append({})\n",
    "        continue\n",
    "    line = line.strip()\n",
    "    if 'title' not in w:\n",
    "        if line.endswith('.png'):\n",
    "            continue\n",
    "        w['title'] = line.strip()\n",
    "        continue\n",
    "    if len(line) < 2 or line == 'Card Corner.png':\n",
    "        continue\n",
    "    for weapon in weapon_regex.findall(line):\n",
    "        w['entries'] = w.get('entries', []) + [weapon]\n",
    "weapon_banners.pop()\n",
    "\n",
    "\n",
    "for b,feat_count in ((character_banners, 1), (weapon_banners, 2)):\n",
    "    for c in b:\n",
    "        c['ids'] = [int(ids.get(name)) for name in c['entries']]\n",
    "        c['ids5'] = c['ids'][:feat_count]\n",
    "        c['ids4'] = c['ids'][feat_count:]\n",
    "\n"
   ]
  },
  {
   "cell_type": "code",
   "execution_count": 38,
   "metadata": {},
   "outputs": [],
   "source": [
    "interspersed_banners = character_banners + weapon_banners\n",
    "interspersed_banners.sort(key=lambda x: x['date'])\n",
    "\n",
    "\n",
    "with open('banners.tsj', 'w') as file:\n",
    "    file.write('Date\\tTitle\\tIDs 5*\\tIDs 4*\\tNames\\n')\n",
    "    # for b in (character_banners, weapon_banners):\n",
    "    for c in interspersed_banners:\n",
    "        file.write(f\"{c['date']:%Y-%m-%d}\\t{c['title']}\\t{c['ids5']}\\t{c['ids4']}\\t{c['entries']}\\n\")"
   ]
  }
 ],
 "metadata": {
  "kernelspec": {
   "display_name": "Python 3",
   "language": "python",
   "name": "python3"
  },
  "language_info": {
   "codemirror_mode": {
    "name": "ipython",
    "version": 3
   },
   "file_extension": ".py",
   "mimetype": "text/x-python",
   "name": "python",
   "nbconvert_exporter": "python",
   "pygments_lexer": "ipython3",
   "version": "3.10.6"
  },
  "orig_nbformat": 4,
  "vscode": {
   "interpreter": {
    "hash": "31f2aee4e71d21fbe5cf8b01ff0e069b9275f58929596ceb00d14d90e3e16cd6"
   }
  }
 },
 "nbformat": 4,
 "nbformat_minor": 2
}
